{
 "cells": [
  {
   "attachments": {},
   "cell_type": "markdown",
   "metadata": {},
   "source": [
    "Produce a dataset of schools which satisfy all of Maria's criteria\n",
    "Rank them from best to worst according to the same criteria.\n",
    "\n",
    "Maria's schools must:\n",
    "1.  be in an urban/metropolitan area.\n",
    "2.  be in a city that ranks 75th percentile or higher on Kauffman's start-up rankings.\n",
    "3.  be below 50th percentile in overall crime.\n",
    "4.  offer a 2-year or 4-year degree in Information Technology/Science.\n",
    "5.  Maria doesn't like the cold. Find and integrate temperature data. \n",
    "    Eliminate any schools located in cities/areas below the 25th percentile \n",
    "    in average temperature."
   ]
  },
  {
   "attachments": {},
   "cell_type": "markdown",
   "metadata": {},
   "source": [
    "\n",
    "The plan:\n",
    "1. Explore the data.\n",
    "    1. Read the pdf data dictionaries or codebooks to figure out what \n",
    "    the variables mean and which ones you will need to use.\n",
    "    2. Look for suitable columns to join the tables on.\n",
    "    3. Load the data\n",
    "    4. Explore the loaded data and eliminate the unneeded columns.\n",
    "    5. Consider a metric for combined classification.\n",
    "2. Data preprocessing.\n",
    "    1. Perform any cleaning and standardization needed to facilitate \n",
    "       the joins & data congruency.\n",
    "    2. Engineer a summary variable for school crime so that we can \n",
    "    compare schools by levels of crime overall.\n",
    "3. Analysis.\n",
    "    1. Eliminate from the data all the data points that fail to satisfy Maria's criteria.\n",
    "    2. Engineer a summary parameter(equation) based on all the useful parameters."
   ]
  },
  {
   "attachments": {},
   "cell_type": "markdown",
   "metadata": {},
   "source": [
    "1.1.-1.2. Reading of data pdf documentation. Finding potentialy useful columns.\n",
    "\n",
    "The data(parameters) that I need:\n",
    "    -Area character (Metropolian/Urban)\n",
    "    -City name\n",
    "    -Kaufman startups ranking, city\n",
    "    -Crime rate (below 50th percentile)\n",
    "    -Study subject (Information Technology/Science)\n",
    "    -Subject lenght of studies/type of degree (2-year or 4-year degree)\n",
    "    -Yearly average temperature data\n",
    "\n",
    "Observation: the common parameter for all these data seems to be the City name."
   ]
  },
  {
   "attachments": {},
   "cell_type": "markdown",
   "metadata": {},
   "source": [
    "The pontentially useful data I can find (to explore further):\n",
    "*CollegeScoreboard:\n",
    "    Root\n",
    "    -ID\n",
    "    -Currently Operating\n",
    "    About the school\n",
    "    -Name\n",
    "    -Location\n",
    "    -Degree Type\n",
    "    Acedemics\n",
    "    -Programs Offered by Type\n",
    "*Crime:\n",
    "    -City\n",
    "    -Crime rates\n",
    "*Kaufmann Index Entrepreneurship\n",
    "    ent015u\t\tentrepreneurship\n",
    "    MSA Code (cities)\n",
    "\n",
    "Observation: None of the current data sources has the temperature data. \n",
    "    I found online a publicly available dataset for 321 cities in the US\n",
    "    (https://www.kaggle.com/datasets/sudalairajkumar/daily-temperature-of-major-cities)\n",
    "\n",
    "*Daily Temperature of Major Cities\n",
    "    -City\n",
    "    -Country\n",
    "    -AvgTemperature"
   ]
  },
  {
   "cell_type": "code",
   "execution_count": 3,
   "metadata": {},
   "outputs": [],
   "source": [
    "import numpy as np\n",
    "import pandas as pd\n",
    "import os"
   ]
  },
  {
   "attachments": {},
   "cell_type": "markdown",
   "metadata": {},
   "source": [
    "0. Download the missing dataset"
   ]
  },
  {
   "attachments": {},
   "cell_type": "markdown",
   "metadata": {},
   "source": [
    "Downloading the temperature & entrepreneurship datasets.\n",
    "# Please note: You need  kaggle  API json file to download the temperature dataset this way.\n",
    "You can also download the dataset directly from the website with below link:\n",
    "https://www.kaggle.com/datasets/sudalairajkumar/daily-temperature-of-major-cities"
   ]
  },
  {
   "cell_type": "code",
   "execution_count": null,
   "metadata": {},
   "outputs": [],
   "source": [
    "import opendatasets as od\n",
    "import kaggle\n",
    "\n",
    "# Get the current directory path\n",
    "current_directory = os.getcwd()"
   ]
  },
  {
   "cell_type": "code",
   "execution_count": null,
   "metadata": {},
   "outputs": [],
   "source": [
    "# Download the temp dataset with kaggle\n",
    "dataset_param_temp = 'sudalairajkumar/daily-temperature-of-major-cities'\n",
    "download_path_temp = os.path.join(current_directory, 'Data/Temperature')\n",
    "kaggle.api.dataset_download_files(dataset_param_temp, path=download_path_temp, unzip=True)"
   ]
  },
  {
   "cell_type": "code",
   "execution_count": null,
   "metadata": {},
   "outputs": [],
   "source": [
    "# Download the entrepreneurship dataset\n",
    "dataset_url_entr = \"https://www.kauffman.org/wp-content/uploads/2019/09/kieadata15.csv\"\n",
    "download_path_entr = os.path.join(current_directory, 'Data/Entrepreneurship')\n",
    "od.download(dataset_url_entr, data_dir=download_path_entr)"
   ]
  },
  {
   "cell_type": "code",
   "execution_count": null,
   "metadata": {},
   "outputs": [],
   "source": [
    "# Add folder data to the os path.\n",
    "for dirname, _, filenames in os.walk('/Users/apzuba/Documents/GitHub/data_wraggling exercises/The_best_University'):\n",
    "    for filename in filenames:\n",
    "        os.path.join(dirname, filename)\n",
    "\n",
    "\n",
    "# Change of the pandas Display Settings.\n",
    "pd.set_option('display.max_columns', None)  # Show all columns\n",
    "pd.set_option('display.expand_frame_repr', True)  # Disable column width wrapping\n"
   ]
  },
  {
   "attachments": {},
   "cell_type": "markdown",
   "metadata": {
    "tags": []
   },
   "source": [
    "I. Colleges Data"
   ]
  },
  {
   "cell_type": "code",
   "execution_count": 2,
   "metadata": {},
   "outputs": [],
   "source": [
    "# Load the College Data\n",
    "CollScoreboard_Raw = pd.read_csv(\"Data/CollegeScoreboard/CollegeScorecard.csv\", low_memory=False)\n"
   ]
  },
  {
   "cell_type": "code",
   "execution_count": 3,
   "metadata": {},
   "outputs": [
    {
     "data": {
      "text/plain": [
       "786       NaN\n",
       "4521      NaN\n",
       "1618    480.0\n",
       "1250      NaN\n",
       "3408      NaN\n",
       "Name: SATMT75, dtype: float64"
      ]
     },
     "execution_count": 3,
     "metadata": {},
     "output_type": "execute_result"
    }
   ],
   "source": [
    "# Explore the data and potentially useful columns.\n",
    "\n",
    "CollScoreboard_Raw.sample(5)\n",
    "CollScoreboard_Raw.shape        #(7804, 1729)!\n",
    "\n",
    "CollScoreboard_Raw['INSTNM'].sample(5)\n",
    "CollScoreboard_Raw['CITY'].sample(5)\n",
    "CollScoreboard_Raw['STABBR'].sample(5)\n",
    "CollScoreboard_Raw['UNITID'].sample(5)\n",
    "CollScoreboard_Raw['SATMT75'].sample(5)"
   ]
  },
  {
   "attachments": {},
   "cell_type": "markdown",
   "metadata": {},
   "source": [
    "\"\"\"\n",
    "\"The second set (CIP[01-54][CERT1/CERT2/ASSOC/BACHL/CERT4]) \n",
    "identifies whether the institution offers the program, at what level, \n",
    "and whether the institution offers the program and level \n",
    "through an exclusively distance education program.\"\n",
    "\n",
    "-This requires finding which The Classification of Instructional Programs (CIP) \n",
    "corresponds to the searched program(Information Technology/Science)\n",
    "\n",
    "The internet search revealed that category 11 is corresponding to \n",
    "\"COMPUTER AND INFORMATION SCIENCES AND SUPPORT SERVICES\" \n",
    "which satisfies the condition.\n",
    "\n",
    "-The programmes that satisfy the duration time are both ASSOC and BACHL type. \n",
    "\n",
    "The selected columns will be then 'CIP11ASSOC' and 'CIP11BACHL'.\n",
    "\"\"\""
   ]
  },
  {
   "cell_type": "code",
   "execution_count": 4,
   "metadata": {},
   "outputs": [
    {
     "data": {
      "text/plain": [
       "905     1\n",
       "1859    1\n",
       "6290    1\n",
       "1879    1\n",
       "5264    1\n",
       "Name: CURROPER, dtype: int64"
      ]
     },
     "execution_count": 4,
     "metadata": {},
     "output_type": "execute_result"
    }
   ],
   "source": [
    "# Finding the \"Currently Operating\" column through the bool type.\n",
    "boolean_columns = CollScoreboard_Raw.columns[\n",
    "    CollScoreboard_Raw.dtypes == bool\n",
    "    ] # No results\n",
    "\n",
    "#Trying through the name search.\n",
    "operating_column = CollScoreboard_Raw.columns[\n",
    "    CollScoreboard_Raw.columns.str.contains('curr', case=False)\n",
    "    ] # Found column named 'CURROPER\n",
    "\n",
    "CollScoreboard_Raw['CURROPER'].sample(5) #exploring the column data"
   ]
  },
  {
   "cell_type": "code",
   "execution_count": 5,
   "metadata": {},
   "outputs": [
    {
     "data": {
      "text/plain": [
       "5876    0.0\n",
       "1734    0.0\n",
       "366     0.0\n",
       "7327    0.0\n",
       "5269    0.0\n",
       "Name: CIP11BACHL, dtype: float64"
      ]
     },
     "execution_count": 5,
     "metadata": {},
     "output_type": "execute_result"
    }
   ],
   "source": [
    "# Creating a filtered table only with the usefeul columns.\n",
    "CollScoreboard_Filtered = CollScoreboard_Raw[[\n",
    "    'INSTNM', 'CITY', 'SATMT25', 'CURROPER', 'CIP11ASSOC', 'CIP11BACHL']]\n",
    "\n",
    "CollScoreboard_Filtered['CIP11ASSOC'].sample(5)\n",
    "CollScoreboard_Filtered['CIP11BACHL'].sample(5)\n"
   ]
  },
  {
   "cell_type": "code",
   "execution_count": 6,
   "metadata": {},
   "outputs": [],
   "source": [
    "# Filtering the rows for the examples where the Universities are currently open\n",
    "# and they offer an Associate or a Bachelor degree.\n",
    "CollScoreboard_Selected = CollScoreboard_Filtered[\n",
    "    (CollScoreboard_Filtered['CURROPER'] == 1) &\n",
    "    (\n",
    "        (CollScoreboard_Filtered['CIP11ASSOC'] > 0) | \n",
    "        (CollScoreboard_Filtered['CIP11BACHL'] > 0)\n",
    "    )\n",
    "] # The Scoreboard data seems ready."
   ]
  },
  {
   "attachments": {},
   "cell_type": "markdown",
   "metadata": {},
   "source": [
    "II. Crime Data"
   ]
  },
  {
   "cell_type": "code",
   "execution_count": 7,
   "metadata": {},
   "outputs": [],
   "source": [
    "# Load the Crime data\n",
    "Crime_Raw = pd.read_csv(\"Data/Crime/Crime_2015.csv\", low_memory=False)"
   ]
  },
  {
   "cell_type": "code",
   "execution_count": null,
   "metadata": {},
   "outputs": [],
   "source": [
    "#Explore the data\n",
    "Crime_Raw.sample(5)\n",
    "Crime_Raw.shape "
   ]
  },
  {
   "attachments": {},
   "cell_type": "markdown",
   "metadata": {},
   "source": [
    "\"\"\"\n",
    "This dataset is way more clearer than the previous one. \n",
    "It contains rate of crimes per 100.000 citizens for various crimes.\n",
    "Not all crimes are alike (eg. Murder or Rape is much more dangerous crime than a Theft), \n",
    "thus engineering a weighted parameter for all the crimes will help to determine \n",
    "a fair assesment of the crime levels.\n",
    "\n",
    "Below, I constructed a Dict with the ratio I apply to get the weighted paremeters.\n",
    "\"\"\""
   ]
  },
  {
   "cell_type": "code",
   "execution_count": 8,
   "metadata": {},
   "outputs": [],
   "source": [
    "crime_weights = {\n",
    "    'ViolentCrime':       5,\n",
    "    'Murder':           300,\n",
    "    'Rape':             150,\n",
    "    'Robbery':            5,\n",
    "    'AggravatedAssault': 10,\n",
    "    'PropertyCrime':      1,\n",
    "    'Burglary':           3,\n",
    "    'Theft':            0.5,\n",
    "    'MotorVehicleTheft':  3\n",
    "}"
   ]
  },
  {
   "cell_type": "code",
   "execution_count": 9,
   "metadata": {},
   "outputs": [
    {
     "name": "stdout",
     "output_type": "stream",
     "text": [
      "<class 'pandas.core.frame.DataFrame'>\n",
      "RangeIndex: 378 entries, 0 to 377\n",
      "Data columns (total 10 columns):\n",
      " #   Column             Non-Null Count  Dtype  \n",
      "---  ------             --------------  -----  \n",
      " 0   ViolentCrime       377 non-null    object \n",
      " 1   Murder             378 non-null    float64\n",
      " 2   Rape               378 non-null    float64\n",
      " 3   Robbery            378 non-null    float64\n",
      " 4   AggravatedAssault  377 non-null    float64\n",
      " 5   PropertyCrime      372 non-null    object \n",
      " 6   Burglary           374 non-null    object \n",
      " 7   Theft              375 non-null    object \n",
      " 8   MotorVehicleTheft  378 non-null    float64\n",
      " 9   City               373 non-null    object \n",
      "dtypes: float64(5), object(5)\n",
      "memory usage: 29.7+ KB\n"
     ]
    }
   ],
   "source": [
    "#Creating a base for the weighted crime table\n",
    "Crime_Weighted = Crime_Raw.copy()\n",
    "Crime_Weighted = Crime_Weighted.drop(['MSA', 'State'], axis=1)\n",
    "Crime_Weighted.info()"
   ]
  },
  {
   "cell_type": "code",
   "execution_count": 10,
   "metadata": {},
   "outputs": [],
   "source": [
    "#Converting all the data values to floats\n",
    "Crime_Weighted['ViolentCrime'] = Crime_Weighted['ViolentCrime'].str.replace(',', '').astype(float)\n",
    "Crime_Weighted['PropertyCrime'] = Crime_Weighted['PropertyCrime'].str.replace(',', '').astype(float)\n",
    "Crime_Weighted['Burglary'] = Crime_Weighted['Burglary'].str.replace(',', '').astype(float)\n",
    "Crime_Weighted['Theft'] = Crime_Weighted['Theft'].str.replace(',', '').astype(float)"
   ]
  },
  {
   "cell_type": "code",
   "execution_count": 11,
   "metadata": {},
   "outputs": [],
   "source": [
    "# fixing the two times representation of city Washington.\n",
    "washington_double = Crime_Weighted[Crime_Weighted['City'] == 'Washington']\n",
    "wash_avg = washington_double.drop(['City'], axis=1).mean()\n",
    "wash_averaged = pd.DataFrame(wash_avg).transpose()\n",
    "wash_averaged['City'] = 'Washington'\n",
    "\n",
    "Crime_Weighted = Crime_Weighted[Crime_Weighted['City'] != 'Washington']\n",
    "\n",
    "Crime_Weighted = pd.concat([Crime_Weighted, wash_averaged], ignore_index=True)\n"
   ]
  },
  {
   "cell_type": "code",
   "execution_count": 12,
   "metadata": {},
   "outputs": [],
   "source": [
    "#Creating a weighted crime table\n",
    "for col, weight in crime_weights.items():\n",
    "    if col in Crime_Weighted.columns:\n",
    "        Crime_Weighted[col] = Crime_Weighted[col].mul(weight)\n",
    "\n",
    "Crime_Weighted['Sum_Crime'] = Crime_Weighted.iloc[:, 1:9].sum(axis=1)\n"
   ]
  },
  {
   "cell_type": "code",
   "execution_count": 13,
   "metadata": {},
   "outputs": [],
   "source": [
    "#Filtering the data for only the positions with the lowest crime scores.\n",
    "percentile_50 = np.percentile(Crime_Weighted['Sum_Crime'], 50)\n",
    "\n",
    "Crime_Filtered = Crime_Weighted[Crime_Weighted['Sum_Crime'] < percentile_50]\n"
   ]
  },
  {
   "cell_type": "code",
   "execution_count": 14,
   "metadata": {},
   "outputs": [],
   "source": [
    "#Creating the final table with the only relevant data to join by.\n",
    "Crime_Selected = Crime_Filtered[['City', 'Sum_Crime']]      #shape (189, 3)\n"
   ]
  },
  {
   "attachments": {},
   "cell_type": "markdown",
   "metadata": {},
   "source": [
    "III. Entrepreneurship Data"
   ]
  },
  {
   "attachments": {},
   "cell_type": "markdown",
   "metadata": {},
   "source": [
    "\"\"\"\n",
    "Based on the further exploration of the data, the following parameters \n",
    "will serve the best use to find the desired startups parameter per city.\n",
    "indmaj2\t\tmajor industry for main job = 4,7,8,9\n",
    "class = 4 5 6 7\n",
    "wgtat\n",
    "msafp, \n",
    "msastat = 1, 2, 4\n",
    "month, year\n",
    "\"\"\""
   ]
  },
  {
   "cell_type": "code",
   "execution_count": 15,
   "metadata": {},
   "outputs": [],
   "source": [
    "#Loading the data\n",
    "Ent_Raw = pd.read_csv(\"Data/Entrepreneurship/entrepreneurial_data_15.csv\", low_memory=False)"
   ]
  },
  {
   "cell_type": "code",
   "execution_count": 16,
   "metadata": {},
   "outputs": [
    {
     "data": {
      "text/plain": [
       "199150    0\n",
       "285658    0\n",
       "237515    0\n",
       "17331     0\n",
       "530164    0\n",
       "Name: se15u, dtype: int64"
      ]
     },
     "execution_count": 16,
     "metadata": {},
     "output_type": "execute_result"
    }
   ],
   "source": [
    "#Exploring the data\n",
    "Ent_Raw.sample(5)\n",
    "Ent_Raw.shape     # (636017, 37)\n",
    "\n",
    "Ent_Raw['se15u'].sample(5)"
   ]
  },
  {
   "cell_type": "code",
   "execution_count": 17,
   "metadata": {},
   "outputs": [],
   "source": [
    "# Changing MSA to City name will be required, as the names \n",
    "# don't match with the MSA Names found in the Crimes table.\n",
    "MSAafter_may2004 = pd.read_excel(\n",
    "    'Data/Entrepreneurship/kieacodebook_v7.xlsx', sheet_name='Appendix 3', header=2\n",
    "    ).iloc[1:]\n",
    "MSAafter_may2004 = MSAafter_may2004[['MSA Code', 'MSA Name']]\n",
    "\n",
    "Ent_Merged = pd.merge(Ent_Raw, MSAafter_may2004, left_on='msafp', right_on='MSA Code')\n"
   ]
  },
  {
   "cell_type": "code",
   "execution_count": 18,
   "metadata": {},
   "outputs": [],
   "source": [
    "# Filtering for metropolitan-only areas\n",
    "Ent_Merged = Ent_Merged[Ent_Merged['MSA Code'] != 0]\n",
    "Ent_Merged = Ent_Merged[Ent_Merged['msastat'].isin([1, 2, 4])]\n",
    "\n",
    "# Filtering for the entrepreneurs-only\n",
    "Ent_Merged = Ent_Merged[Ent_Merged['class'].isin([4, 5, 6, 7])]\n",
    "\n",
    "# Filtering for the startup-type business areas\n",
    "Ent_Merged = Ent_Merged[Ent_Merged['indmaj2'].isin([4, 7, 8, 9])]\n"
   ]
  },
  {
   "cell_type": "code",
   "execution_count": 19,
   "metadata": {},
   "outputs": [],
   "source": [
    "# Preparation for modyfying the 'MSA Name' to the city name format.\n",
    "\n",
    "#finding cities in the destination table containing '-'.\n",
    "CollScoreboard_Selected['CITY'].str.contains('-').value_counts() #4\n",
    "\n",
    "# Winston-Salem, Wilkes-Barre and Hampden-Sydney found.\n",
    "CollScoreboard_Selected[CollScoreboard_Selected['CITY'].str.contains('-')]\n",
    "\n",
    "#Converting the MSA Name to the only keep the CITY name.\n",
    "Ent_Merged['CITY'] = Ent_Merged[\n",
    "    'MSA Name'\n",
    "    ].str.strip(\n",
    "        \"'\"\n",
    "        ).str.split(\n",
    "            ','\n",
    "            ).str[\n",
    "                0].str.split(\n",
    "                    '-'\n",
    "                    ).str[0]\n"
   ]
  },
  {
   "cell_type": "code",
   "execution_count": 20,
   "metadata": {},
   "outputs": [],
   "source": [
    "# update the rows with Winston-Salem, Wilkes-Barre and Hampden-Sydney. \n",
    "# These are the only rows in the future join table 'CollScoreboard_Selected' \n",
    "# that contain '-' in their name, thus were previosuly erroneously modified.\n",
    "\n",
    "rows_to_update = Ent_Merged['CITY'].isin(['Winston', 'Wilkes', 'Hampden'])\n",
    "\n",
    "Ent_Merged.loc[rows_to_update, 'CITY'] = Ent_Merged.loc[\n",
    "    rows_to_update, 'CITY'\n",
    "    ].str.replace(\n",
    "        'Winston', 'Wilkes-Barre'\n",
    "        ).str.replace(\n",
    "            'Wilkes', 'Wilkes-Barre'\n",
    "            ).str.replace(\n",
    "                'Hampden', 'Hampden-Sydney'\n",
    "                )"
   ]
  },
  {
   "cell_type": "code",
   "execution_count": 24,
   "metadata": {},
   "outputs": [
    {
     "name": "stdout",
     "output_type": "stream",
     "text": [
      "<class 'pandas.core.frame.DataFrame'>\n",
      "Index: 98940 entries, 163359 to 570674\n",
      "Data columns (total 40 columns):\n",
      " #   Column       Non-Null Count  Dtype  \n",
      "---  ------       --------------  -----  \n",
      " 0   month        98940 non-null  int64  \n",
      " 1   grdatn       98940 non-null  int64  \n",
      " 2   marstat      98940 non-null  int64  \n",
      " 3   age          98940 non-null  int64  \n",
      " 4   class        98940 non-null  int64  \n",
      " 5   region       98940 non-null  int64  \n",
      " 6   state        98940 non-null  int64  \n",
      " 7   hours        98940 non-null  int64  \n",
      " 8   mlr          98940 non-null  int64  \n",
      " 9   natvty       98940 non-null  int64  \n",
      " 10  msafp        98940 non-null  int64  \n",
      " 11  msastat      98940 non-null  int64  \n",
      " 12  faminc       98940 non-null  int64  \n",
      " 13  spneth       98940 non-null  int64  \n",
      " 14  race         98940 non-null  int64  \n",
      " 15  year         98940 non-null  int64  \n",
      " 16  class_t1     98940 non-null  int64  \n",
      " 17  mlr_t1       98940 non-null  int64  \n",
      " 18  wgta         98940 non-null  float64\n",
      " 19  ind2         98940 non-null  float64\n",
      " 20  indmaj2      98940 non-null  float64\n",
      " 21  ind2_t1      96600 non-null  float64\n",
      " 22  indmaj2_t1   96600 non-null  float64\n",
      " 23  pid          98940 non-null  object \n",
      " 24  yeart1       98940 non-null  int64  \n",
      " 25  female       98940 non-null  int64  \n",
      " 26  immigr       98940 non-null  int64  \n",
      " 27  homeown      0 non-null      float64\n",
      " 28  hoursu1b     98940 non-null  int64  \n",
      " 29  hoursu1b_t1  98940 non-null  int64  \n",
      " 30  se15u        98940 non-null  int64  \n",
      " 31  se15u_t1     98940 non-null  int64  \n",
      " 32  ent015u      88615 non-null  float64\n",
      " 33  ent015ua     83468 non-null  float64\n",
      " 34  vet          98940 non-null  int64  \n",
      " 35  wgtat        98940 non-null  float64\n",
      " 36  wgtat1       98940 non-null  float64\n",
      " 37  MSA Code     98940 non-null  float64\n",
      " 38  MSA Name     98940 non-null  object \n",
      " 39  CITY         98940 non-null  object \n",
      "dtypes: float64(11), int64(26), object(3)\n",
      "memory usage: 30.9+ MB\n"
     ]
    }
   ],
   "source": [
    "#group weight scores by the city\n",
    "#using the count as an index of entrepreneurial activity.\n",
    "Ent_Merged.info()\n",
    "Ent_Grouped = Ent_Merged['CITY'].value_counts().reset_index()\n"
   ]
  },
  {
   "cell_type": "code",
   "execution_count": 25,
   "metadata": {},
   "outputs": [],
   "source": [
    "#include only 75th percentile\n",
    "Ent_Filtered = Ent_Grouped[\n",
    "    Ent_Grouped['count'] > np.percentile(Ent_Grouped['count'], 75)\n",
    "    ]\n"
   ]
  },
  {
   "cell_type": "code",
   "execution_count": 26,
   "metadata": {},
   "outputs": [],
   "source": [
    "\n",
    "#The final table of top 25% Entrepreneurial cities is ready.\n",
    "Ent_Filtered = Ent_Filtered.sort_values(\n",
    "    ['count'], ascending=[False]).round() #shape (56,2)\n"
   ]
  },
  {
   "attachments": {},
   "cell_type": "markdown",
   "metadata": {},
   "source": [
    "IV. Temperature Data"
   ]
  },
  {
   "cell_type": "code",
   "execution_count": 22,
   "metadata": {},
   "outputs": [],
   "source": [
    "# Loading the data\n",
    "Temp_Raw = pd.read_csv(\n",
    "    \"Data/Temperature/city_temperature.csv\", low_memory=False)"
   ]
  },
  {
   "cell_type": "code",
   "execution_count": 23,
   "metadata": {},
   "outputs": [
    {
     "name": "stdout",
     "output_type": "stream",
     "text": [
      "<class 'pandas.core.frame.DataFrame'>\n",
      "RangeIndex: 2906327 entries, 0 to 2906326\n",
      "Data columns (total 8 columns):\n",
      " #   Column          Dtype  \n",
      "---  ------          -----  \n",
      " 0   Region          object \n",
      " 1   Country         object \n",
      " 2   State           object \n",
      " 3   City            object \n",
      " 4   Month           int64  \n",
      " 5   Day             int64  \n",
      " 6   Year            int64  \n",
      " 7   AvgTemperature  float64\n",
      "dtypes: float64(1), int64(3), object(4)\n",
      "memory usage: 177.4+ MB\n"
     ]
    },
    {
     "data": {
      "text/html": [
       "<div>\n",
       "<style scoped>\n",
       "    .dataframe tbody tr th:only-of-type {\n",
       "        vertical-align: middle;\n",
       "    }\n",
       "\n",
       "    .dataframe tbody tr th {\n",
       "        vertical-align: top;\n",
       "    }\n",
       "\n",
       "    .dataframe thead th {\n",
       "        text-align: right;\n",
       "    }\n",
       "</style>\n",
       "<table border=\"1\" class=\"dataframe\">\n",
       "  <thead>\n",
       "    <tr style=\"text-align: right;\">\n",
       "      <th></th>\n",
       "      <th>Region</th>\n",
       "      <th>Country</th>\n",
       "      <th>State</th>\n",
       "      <th>City</th>\n",
       "      <th>Month</th>\n",
       "      <th>Day</th>\n",
       "      <th>Year</th>\n",
       "      <th>AvgTemperature</th>\n",
       "    </tr>\n",
       "  </thead>\n",
       "  <tbody>\n",
       "    <tr>\n",
       "      <th>2385444</th>\n",
       "      <td>North America</td>\n",
       "      <td>US</td>\n",
       "      <td>Ohio</td>\n",
       "      <td>Cincinnati</td>\n",
       "      <td>5</td>\n",
       "      <td>16</td>\n",
       "      <td>1998</td>\n",
       "      <td>76.6</td>\n",
       "    </tr>\n",
       "    <tr>\n",
       "      <th>1594495</th>\n",
       "      <td>North America</td>\n",
       "      <td>US</td>\n",
       "      <td>California</td>\n",
       "      <td>San Diego</td>\n",
       "      <td>12</td>\n",
       "      <td>29</td>\n",
       "      <td>2010</td>\n",
       "      <td>59.0</td>\n",
       "    </tr>\n",
       "    <tr>\n",
       "      <th>1924646</th>\n",
       "      <td>North America</td>\n",
       "      <td>US</td>\n",
       "      <td>Kansas</td>\n",
       "      <td>Goodland</td>\n",
       "      <td>8</td>\n",
       "      <td>4</td>\n",
       "      <td>1995</td>\n",
       "      <td>74.0</td>\n",
       "    </tr>\n",
       "    <tr>\n",
       "      <th>681269</th>\n",
       "      <td>Europe</td>\n",
       "      <td>Cyprus</td>\n",
       "      <td>NaN</td>\n",
       "      <td>Nicosia</td>\n",
       "      <td>4</td>\n",
       "      <td>18</td>\n",
       "      <td>2001</td>\n",
       "      <td>68.7</td>\n",
       "    </tr>\n",
       "    <tr>\n",
       "      <th>52250</th>\n",
       "      <td>Africa</td>\n",
       "      <td>Ethiopia</td>\n",
       "      <td>NaN</td>\n",
       "      <td>Addis Ababa</td>\n",
       "      <td>10</td>\n",
       "      <td>10</td>\n",
       "      <td>1998</td>\n",
       "      <td>60.2</td>\n",
       "    </tr>\n",
       "  </tbody>\n",
       "</table>\n",
       "</div>"
      ],
      "text/plain": [
       "                Region   Country       State         City  Month  Day  Year   \n",
       "2385444  North America        US        Ohio   Cincinnati      5   16  1998  \\\n",
       "1594495  North America        US  California    San Diego     12   29  2010   \n",
       "1924646  North America        US      Kansas     Goodland      8    4  1995   \n",
       "681269          Europe    Cyprus         NaN      Nicosia      4   18  2001   \n",
       "52250           Africa  Ethiopia         NaN  Addis Ababa     10   10  1998   \n",
       "\n",
       "         AvgTemperature  \n",
       "2385444            76.6  \n",
       "1594495            59.0  \n",
       "1924646            74.0  \n",
       "681269             68.7  \n",
       "52250              60.2  "
      ]
     },
     "execution_count": 23,
     "metadata": {},
     "output_type": "execute_result"
    }
   ],
   "source": [
    "#Exploring the raw data.\n",
    "Temp_Raw.shape      #(2906327, 8)\n",
    "Temp_Raw.info()\n",
    "Temp_Raw.sample(5)"
   ]
  },
  {
   "cell_type": "code",
   "execution_count": 27,
   "metadata": {},
   "outputs": [
    {
     "data": {
      "text/plain": [
       "1450990              Birmingham\n",
       "1460255              Huntsville\n",
       "1469520                  Mobile\n",
       "1478785              Montgomery\n",
       "1488050               Anchorage\n",
       "                   ...         \n",
       "2862480                 Madison\n",
       "2871745               Milwaukee\n",
       "2881010                  Casper\n",
       "2890275                Cheyenne\n",
       "2899540    San Juan Puerto Rico\n",
       "Name: City, Length: 154, dtype: object"
      ]
     },
     "execution_count": 27,
     "metadata": {},
     "output_type": "execute_result"
    }
   ],
   "source": [
    "#Filtering for only the US cities.\n",
    "Temp_USA = Temp_Raw[Temp_Raw['Country'].isin(['US', 'USA'])]    #(1455337, 8)\n",
    "Temp_USA['City'].drop_duplicates()  # 154 unique Cities"
   ]
  },
  {
   "cell_type": "code",
   "execution_count": 28,
   "metadata": {},
   "outputs": [],
   "source": [
    "# Groupping cities by the average temperature.\n",
    "Temp_Grouped = Temp_USA.groupby('City')['AvgTemperature'].mean().reset_index()"
   ]
  },
  {
   "cell_type": "code",
   "execution_count": 29,
   "metadata": {},
   "outputs": [],
   "source": [
    "# Filtering out the bottom 25 percentile\n",
    "Temp_Filtered = Temp_Grouped[\n",
    "    Temp_Grouped['AvgTemperature'] > np.percentile(\n",
    "        Temp_Grouped['AvgTemperature'], 25\n",
    "        )\n",
    "    ]"
   ]
  },
  {
   "cell_type": "code",
   "execution_count": 30,
   "metadata": {},
   "outputs": [],
   "source": [
    "#The final table of the upper 75% warm cities is ready.\n",
    "Temp_Filtered = Temp_Filtered.sort_values(\n",
    "    ['AvgTemperature'], ascending=[False]).round() #shape  (115, 2)"
   ]
  },
  {
   "attachments": {},
   "cell_type": "markdown",
   "metadata": {},
   "source": [
    "V. Merging of tables"
   ]
  },
  {
   "attachments": {},
   "cell_type": "markdown",
   "metadata": {},
   "source": [
    "# Time to join all the results into one table.\n",
    "# Tables to merge: \n",
    "    # CollScoreboard_Selected,  (2937, 6)\n",
    "    # Crime_Selected,           (189, 3)\n",
    "    # Ent_Filtered,             (56, 2)\n",
    "    # Temp_Filtered.            (115, 2)\n",
    "# We use 'City' Column to merge."
   ]
  },
  {
   "cell_type": "code",
   "execution_count": 31,
   "metadata": {},
   "outputs": [],
   "source": [
    "#Renaming the City column to match CITY to avoid duplicate columns.\n",
    "Crime_Selected = Crime_Selected.rename(columns={'City': 'CITY'})\n",
    "Temp_Filtered = Temp_Filtered.rename(columns={'City': 'CITY'})\n",
    "\n",
    "Ent_Filtered = Ent_Filtered.rename(columns={'count': 'Entr_count'})"
   ]
  },
  {
   "cell_type": "code",
   "execution_count": 32,
   "metadata": {},
   "outputs": [],
   "source": [
    "CollScoreboard_ToMerge = CollScoreboard_Selected[[\n",
    "    'INSTNM', 'CITY', 'SATMT25']].drop_duplicates()"
   ]
  },
  {
   "cell_type": "code",
   "execution_count": 33,
   "metadata": {},
   "outputs": [],
   "source": [
    "# First merge of first two tables.\n",
    "Merged_All = pd.merge(\n",
    "    CollScoreboard_ToMerge, \n",
    "    Crime_Selected, \n",
    "    on='CITY', \n",
    "    how='inner')    # (670, 4)"
   ]
  },
  {
   "cell_type": "code",
   "execution_count": 34,
   "metadata": {},
   "outputs": [],
   "source": [
    "# Merging Entrepreuerial acitivity final table.\n",
    "Merged_All = pd.merge(\n",
    "    Merged_All, \n",
    "    Ent_Filtered, \n",
    "    on='CITY', \n",
    "    how='inner')    # (271, 5)"
   ]
  },
  {
   "cell_type": "code",
   "execution_count": 35,
   "metadata": {},
   "outputs": [],
   "source": [
    "# Finally, Merging the Temperature data table.\n",
    "Merged_All = pd.merge(\n",
    "    Merged_All, \n",
    "    Temp_Filtered, \n",
    "    on='CITY', \n",
    "    how='inner')    # (217, 6)"
   ]
  },
  {
   "attachments": {},
   "cell_type": "markdown",
   "metadata": {},
   "source": [
    "VI. Parameter Engineering and The Final Results"
   ]
  },
  {
   "attachments": {},
   "cell_type": "markdown",
   "metadata": {},
   "source": [
    "The numerical value columns that will be used are : \n",
    "#   Sum_Crime, \n",
    "#   Entr_count, \n",
    "#   AvgTemperature\n",
    "First, the normalisation of the results will be useful. \n",
    "We will use Min-Max Normalisation method to keep the values positive.\n"
   ]
  },
  {
   "cell_type": "code",
   "execution_count": 36,
   "metadata": {},
   "outputs": [],
   "source": [
    "#Getting min and max values of the columns to normalize.\n",
    "minV_Crime, maxV_Crime = Merged_All['Sum_Crime'].min(), Merged_All['Sum_Crime'].max()\n",
    "\n",
    "minV_Ent, maxV_Ent = Merged_All['Entr_count'].min(), Merged_All['Entr_count'].max()\n",
    "\n",
    "minV_Temp, maxV_Temp = Merged_All['AvgTemperature'].min(), Merged_All['AvgTemperature'].max()\n"
   ]
  },
  {
   "cell_type": "code",
   "execution_count": 37,
   "metadata": {},
   "outputs": [
    {
     "data": {
      "text/html": [
       "<div>\n",
       "<style scoped>\n",
       "    .dataframe tbody tr th:only-of-type {\n",
       "        vertical-align: middle;\n",
       "    }\n",
       "\n",
       "    .dataframe tbody tr th {\n",
       "        vertical-align: top;\n",
       "    }\n",
       "\n",
       "    .dataframe thead th {\n",
       "        text-align: right;\n",
       "    }\n",
       "</style>\n",
       "<table border=\"1\" class=\"dataframe\">\n",
       "  <thead>\n",
       "    <tr style=\"text-align: right;\">\n",
       "      <th></th>\n",
       "      <th>SATMT25</th>\n",
       "      <th>Sum_Crime</th>\n",
       "      <th>Entr_count</th>\n",
       "      <th>AvgTemperature</th>\n",
       "    </tr>\n",
       "  </thead>\n",
       "  <tbody>\n",
       "    <tr>\n",
       "      <th>count</th>\n",
       "      <td>73.000</td>\n",
       "      <td>217.000</td>\n",
       "      <td>217.000</td>\n",
       "      <td>217.000</td>\n",
       "    </tr>\n",
       "    <tr>\n",
       "      <th>mean</th>\n",
       "      <td>516.274</td>\n",
       "      <td>13835.577</td>\n",
       "      <td>2366.512</td>\n",
       "      <td>56.820</td>\n",
       "    </tr>\n",
       "    <tr>\n",
       "      <th>std</th>\n",
       "      <td>92.947</td>\n",
       "      <td>1773.889</td>\n",
       "      <td>1520.843</td>\n",
       "      <td>6.488</td>\n",
       "    </tr>\n",
       "    <tr>\n",
       "      <th>min</th>\n",
       "      <td>345.000</td>\n",
       "      <td>8531.100</td>\n",
       "      <td>567.000</td>\n",
       "      <td>50.000</td>\n",
       "    </tr>\n",
       "    <tr>\n",
       "      <th>25%</th>\n",
       "      <td>440.000</td>\n",
       "      <td>12727.100</td>\n",
       "      <td>879.000</td>\n",
       "      <td>50.000</td>\n",
       "    </tr>\n",
       "    <tr>\n",
       "      <th>50%</th>\n",
       "      <td>510.000</td>\n",
       "      <td>14746.650</td>\n",
       "      <td>1722.000</td>\n",
       "      <td>56.000</td>\n",
       "    </tr>\n",
       "    <tr>\n",
       "      <th>75%</th>\n",
       "      <td>570.000</td>\n",
       "      <td>14988.900</td>\n",
       "      <td>3987.000</td>\n",
       "      <td>63.000</td>\n",
       "    </tr>\n",
       "    <tr>\n",
       "      <th>max</th>\n",
       "      <td>720.000</td>\n",
       "      <td>15400.650</td>\n",
       "      <td>5318.000</td>\n",
       "      <td>69.000</td>\n",
       "    </tr>\n",
       "  </tbody>\n",
       "</table>\n",
       "</div>"
      ],
      "text/plain": [
       "       SATMT25  Sum_Crime  Entr_count  AvgTemperature\n",
       "count   73.000    217.000     217.000         217.000\n",
       "mean   516.274  13835.577    2366.512          56.820\n",
       "std     92.947   1773.889    1520.843           6.488\n",
       "min    345.000   8531.100     567.000          50.000\n",
       "25%    440.000  12727.100     879.000          50.000\n",
       "50%    510.000  14746.650    1722.000          56.000\n",
       "75%    570.000  14988.900    3987.000          63.000\n",
       "max    720.000  15400.650    5318.000          69.000"
      ]
     },
     "execution_count": 37,
     "metadata": {},
     "output_type": "execute_result"
    }
   ],
   "source": [
    "Merged_All.describe().round(3)"
   ]
  },
  {
   "cell_type": "code",
   "execution_count": 38,
   "metadata": {},
   "outputs": [],
   "source": [
    "# Conducting the normalisation into the new columns.\n",
    "Merged_All['Crime_Norm'] = ((Merged_All['Sum_Crime'] - minV_Crime) / (maxV_Crime - minV_Crime)) +0.3\n",
    "Merged_All['Entr_Norm'] = ((Merged_All['Entr_count'] - minV_Ent) / (maxV_Ent - minV_Ent)) +0.3\n",
    "Merged_All['Temp_Norm'] = ((Merged_All['AvgTemperature'] - minV_Temp) / (maxV_Temp - minV_Temp)) +0.3\n",
    "\n",
    "\n",
    "# Normalised values range from 0.3 to 1.3 to aviod the division problem and \n",
    "# to give points to the min values as well.\n"
   ]
  },
  {
   "attachments": {},
   "cell_type": "markdown",
   "metadata": {},
   "source": [
    "# Creating the engineered parameter. \n",
    "\"\"\"\n",
    "The parameter assumes that:\n",
    "a.) the Entrepreneurial activity would be the most important \n",
    "factor for Maria (multiplied by 5). \n",
    "b.) It promotes or degrades the score based on the crime, and \n",
    "c.) adds a small bonus for the good weather.\n",
    "\"\"\""
   ]
  },
  {
   "cell_type": "code",
   "execution_count": 39,
   "metadata": {},
   "outputs": [],
   "source": [
    "# The Engineerer Parameter\n",
    "Merged_All['Maria_Uni_Score'] = (\n",
    "    Merged_All['Entr_Norm']*5 + Merged_All['Temp_Norm'] \n",
    "    ) / (Merged_All['Crime_Norm'] +0.7)"
   ]
  },
  {
   "cell_type": "code",
   "execution_count": 40,
   "metadata": {},
   "outputs": [],
   "source": [
    "#Sorting results by the Score and Maths SAT entry scores for the 25th percentile.\n",
    "Merged_All = Merged_All.sort_values(\n",
    "    ['Maria_Uni_Score', 'SATMT25'], ascending=[False, False])"
   ]
  },
  {
   "cell_type": "code",
   "execution_count": 41,
   "metadata": {},
   "outputs": [
    {
     "data": {
      "text/html": [
       "<div>\n",
       "<style scoped>\n",
       "    .dataframe tbody tr th:only-of-type {\n",
       "        vertical-align: middle;\n",
       "    }\n",
       "\n",
       "    .dataframe tbody tr th {\n",
       "        vertical-align: top;\n",
       "    }\n",
       "\n",
       "    .dataframe thead th {\n",
       "        text-align: right;\n",
       "    }\n",
       "</style>\n",
       "<table border=\"1\" class=\"dataframe\">\n",
       "  <thead>\n",
       "    <tr style=\"text-align: right;\">\n",
       "      <th></th>\n",
       "      <th>INSTNM</th>\n",
       "      <th>CITY</th>\n",
       "      <th>Maria_Uni_Score</th>\n",
       "      <th>SATMT25</th>\n",
       "      <th>Entr_Norm</th>\n",
       "      <th>Temp_Norm</th>\n",
       "      <th>Crime_Norm</th>\n",
       "    </tr>\n",
       "  </thead>\n",
       "  <tbody>\n",
       "    <tr>\n",
       "      <th>39</th>\n",
       "      <td>Georgetown University</td>\n",
       "      <td>Washington</td>\n",
       "      <td>4.708169</td>\n",
       "      <td>660.0</td>\n",
       "      <td>1.300000</td>\n",
       "      <td>0.721053</td>\n",
       "      <td>0.833729</td>\n",
       "    </tr>\n",
       "    <tr>\n",
       "      <th>38</th>\n",
       "      <td>George Washington University</td>\n",
       "      <td>Washington</td>\n",
       "      <td>4.708169</td>\n",
       "      <td>600.0</td>\n",
       "      <td>1.300000</td>\n",
       "      <td>0.721053</td>\n",
       "      <td>0.833729</td>\n",
       "    </tr>\n",
       "    <tr>\n",
       "      <th>34</th>\n",
       "      <td>American University</td>\n",
       "      <td>Washington</td>\n",
       "      <td>4.708169</td>\n",
       "      <td>570.0</td>\n",
       "      <td>1.300000</td>\n",
       "      <td>0.721053</td>\n",
       "      <td>0.833729</td>\n",
       "    </tr>\n",
       "    <tr>\n",
       "      <th>35</th>\n",
       "      <td>Catholic University of America</td>\n",
       "      <td>Washington</td>\n",
       "      <td>4.708169</td>\n",
       "      <td>510.0</td>\n",
       "      <td>1.300000</td>\n",
       "      <td>0.721053</td>\n",
       "      <td>0.833729</td>\n",
       "    </tr>\n",
       "    <tr>\n",
       "      <th>40</th>\n",
       "      <td>Howard University</td>\n",
       "      <td>Washington</td>\n",
       "      <td>4.708169</td>\n",
       "      <td>480.0</td>\n",
       "      <td>1.300000</td>\n",
       "      <td>0.721053</td>\n",
       "      <td>0.833729</td>\n",
       "    </tr>\n",
       "    <tr>\n",
       "      <th>37</th>\n",
       "      <td>Gallaudet University</td>\n",
       "      <td>Washington</td>\n",
       "      <td>4.708169</td>\n",
       "      <td>345.0</td>\n",
       "      <td>1.300000</td>\n",
       "      <td>0.721053</td>\n",
       "      <td>0.833729</td>\n",
       "    </tr>\n",
       "    <tr>\n",
       "      <th>36</th>\n",
       "      <td>University of the District of Columbia</td>\n",
       "      <td>Washington</td>\n",
       "      <td>4.708169</td>\n",
       "      <td>NaN</td>\n",
       "      <td>1.300000</td>\n",
       "      <td>0.721053</td>\n",
       "      <td>0.833729</td>\n",
       "    </tr>\n",
       "    <tr>\n",
       "      <th>41</th>\n",
       "      <td>Strayer University-District of Columbia</td>\n",
       "      <td>Washington</td>\n",
       "      <td>4.708169</td>\n",
       "      <td>NaN</td>\n",
       "      <td>1.300000</td>\n",
       "      <td>0.721053</td>\n",
       "      <td>0.833729</td>\n",
       "    </tr>\n",
       "    <tr>\n",
       "      <th>42</th>\n",
       "      <td>Trinity Washington University</td>\n",
       "      <td>Washington</td>\n",
       "      <td>4.708169</td>\n",
       "      <td>NaN</td>\n",
       "      <td>1.300000</td>\n",
       "      <td>0.721053</td>\n",
       "      <td>0.833729</td>\n",
       "    </tr>\n",
       "    <tr>\n",
       "      <th>43</th>\n",
       "      <td>Beaufort County Community College</td>\n",
       "      <td>Washington</td>\n",
       "      <td>4.708169</td>\n",
       "      <td>NaN</td>\n",
       "      <td>1.300000</td>\n",
       "      <td>0.721053</td>\n",
       "      <td>0.833729</td>\n",
       "    </tr>\n",
       "    <tr>\n",
       "      <th>44</th>\n",
       "      <td>Penn Commercial Business/Technical School</td>\n",
       "      <td>Washington</td>\n",
       "      <td>4.708169</td>\n",
       "      <td>NaN</td>\n",
       "      <td>1.300000</td>\n",
       "      <td>0.721053</td>\n",
       "      <td>0.833729</td>\n",
       "    </tr>\n",
       "    <tr>\n",
       "      <th>45</th>\n",
       "      <td>Washington &amp; Jefferson College</td>\n",
       "      <td>Washington</td>\n",
       "      <td>4.708169</td>\n",
       "      <td>NaN</td>\n",
       "      <td>1.300000</td>\n",
       "      <td>0.721053</td>\n",
       "      <td>0.833729</td>\n",
       "    </tr>\n",
       "    <tr>\n",
       "      <th>46</th>\n",
       "      <td>Warren County Community College</td>\n",
       "      <td>Washington</td>\n",
       "      <td>4.708169</td>\n",
       "      <td>NaN</td>\n",
       "      <td>1.300000</td>\n",
       "      <td>0.721053</td>\n",
       "      <td>0.833729</td>\n",
       "    </tr>\n",
       "    <tr>\n",
       "      <th>47</th>\n",
       "      <td>University of the Potomac-Washington DC Campus</td>\n",
       "      <td>Washington</td>\n",
       "      <td>4.708169</td>\n",
       "      <td>NaN</td>\n",
       "      <td>1.300000</td>\n",
       "      <td>0.721053</td>\n",
       "      <td>0.833729</td>\n",
       "    </tr>\n",
       "    <tr>\n",
       "      <th>48</th>\n",
       "      <td>Strayer University-Global Region</td>\n",
       "      <td>Washington</td>\n",
       "      <td>4.708169</td>\n",
       "      <td>NaN</td>\n",
       "      <td>1.300000</td>\n",
       "      <td>0.721053</td>\n",
       "      <td>0.833729</td>\n",
       "    </tr>\n",
       "    <tr>\n",
       "      <th>82</th>\n",
       "      <td>University of Chicago</td>\n",
       "      <td>Chicago</td>\n",
       "      <td>3.076749</td>\n",
       "      <td>720.0</td>\n",
       "      <td>1.019848</td>\n",
       "      <td>0.300000</td>\n",
       "      <td>1.054853</td>\n",
       "    </tr>\n",
       "    <tr>\n",
       "      <th>108</th>\n",
       "      <td>Illinois Institute of Technology</td>\n",
       "      <td>Chicago</td>\n",
       "      <td>3.076749</td>\n",
       "      <td>640.0</td>\n",
       "      <td>1.019848</td>\n",
       "      <td>0.300000</td>\n",
       "      <td>1.054853</td>\n",
       "    </tr>\n",
       "    <tr>\n",
       "      <th>112</th>\n",
       "      <td>Loyola University Chicago</td>\n",
       "      <td>Chicago</td>\n",
       "      <td>3.076749</td>\n",
       "      <td>530.0</td>\n",
       "      <td>1.019848</td>\n",
       "      <td>0.300000</td>\n",
       "      <td>1.054853</td>\n",
       "    </tr>\n",
       "    <tr>\n",
       "      <th>100</th>\n",
       "      <td>DePaul University</td>\n",
       "      <td>Chicago</td>\n",
       "      <td>3.076749</td>\n",
       "      <td>520.0</td>\n",
       "      <td>1.019848</td>\n",
       "      <td>0.300000</td>\n",
       "      <td>1.054853</td>\n",
       "    </tr>\n",
       "    <tr>\n",
       "      <th>106</th>\n",
       "      <td>University of Illinois at Chicago</td>\n",
       "      <td>Chicago</td>\n",
       "      <td>3.076749</td>\n",
       "      <td>510.0</td>\n",
       "      <td>1.019848</td>\n",
       "      <td>0.300000</td>\n",
       "      <td>1.054853</td>\n",
       "    </tr>\n",
       "    <tr>\n",
       "      <th>80</th>\n",
       "      <td>Chicago State University</td>\n",
       "      <td>Chicago</td>\n",
       "      <td>3.076749</td>\n",
       "      <td>450.0</td>\n",
       "      <td>1.019848</td>\n",
       "      <td>0.300000</td>\n",
       "      <td>1.054853</td>\n",
       "    </tr>\n",
       "    <tr>\n",
       "      <th>122</th>\n",
       "      <td>Roosevelt University</td>\n",
       "      <td>Chicago</td>\n",
       "      <td>3.076749</td>\n",
       "      <td>440.0</td>\n",
       "      <td>1.019848</td>\n",
       "      <td>0.300000</td>\n",
       "      <td>1.054853</td>\n",
       "    </tr>\n",
       "    <tr>\n",
       "      <th>124</th>\n",
       "      <td>Saint Xavier University</td>\n",
       "      <td>Chicago</td>\n",
       "      <td>3.076749</td>\n",
       "      <td>440.0</td>\n",
       "      <td>1.019848</td>\n",
       "      <td>0.300000</td>\n",
       "      <td>1.054853</td>\n",
       "    </tr>\n",
       "    <tr>\n",
       "      <th>78</th>\n",
       "      <td>American Academy of Art</td>\n",
       "      <td>Chicago</td>\n",
       "      <td>3.076749</td>\n",
       "      <td>NaN</td>\n",
       "      <td>1.019848</td>\n",
       "      <td>0.300000</td>\n",
       "      <td>1.054853</td>\n",
       "    </tr>\n",
       "    <tr>\n",
       "      <th>84</th>\n",
       "      <td>City Colleges of Chicago-Kennedy-King College</td>\n",
       "      <td>Chicago</td>\n",
       "      <td>3.076749</td>\n",
       "      <td>NaN</td>\n",
       "      <td>1.019848</td>\n",
       "      <td>0.300000</td>\n",
       "      <td>1.054853</td>\n",
       "    </tr>\n",
       "    <tr>\n",
       "      <th>86</th>\n",
       "      <td>City Colleges of Chicago-Malcolm X College</td>\n",
       "      <td>Chicago</td>\n",
       "      <td>3.076749</td>\n",
       "      <td>NaN</td>\n",
       "      <td>1.019848</td>\n",
       "      <td>0.300000</td>\n",
       "      <td>1.054853</td>\n",
       "    </tr>\n",
       "    <tr>\n",
       "      <th>88</th>\n",
       "      <td>City Colleges of Chicago-Olive-Harvey College</td>\n",
       "      <td>Chicago</td>\n",
       "      <td>3.076749</td>\n",
       "      <td>NaN</td>\n",
       "      <td>1.019848</td>\n",
       "      <td>0.300000</td>\n",
       "      <td>1.054853</td>\n",
       "    </tr>\n",
       "    <tr>\n",
       "      <th>90</th>\n",
       "      <td>City Colleges of Chicago-Harry S Truman College</td>\n",
       "      <td>Chicago</td>\n",
       "      <td>3.076749</td>\n",
       "      <td>NaN</td>\n",
       "      <td>1.019848</td>\n",
       "      <td>0.300000</td>\n",
       "      <td>1.054853</td>\n",
       "    </tr>\n",
       "    <tr>\n",
       "      <th>92</th>\n",
       "      <td>City Colleges of Chicago-Richard J Daley College</td>\n",
       "      <td>Chicago</td>\n",
       "      <td>3.076749</td>\n",
       "      <td>NaN</td>\n",
       "      <td>1.019848</td>\n",
       "      <td>0.300000</td>\n",
       "      <td>1.054853</td>\n",
       "    </tr>\n",
       "    <tr>\n",
       "      <th>94</th>\n",
       "      <td>City Colleges of Chicago-Harold Washington Col...</td>\n",
       "      <td>Chicago</td>\n",
       "      <td>3.076749</td>\n",
       "      <td>NaN</td>\n",
       "      <td>1.019848</td>\n",
       "      <td>0.300000</td>\n",
       "      <td>1.054853</td>\n",
       "    </tr>\n",
       "  </tbody>\n",
       "</table>\n",
       "</div>"
      ],
      "text/plain": [
       "                                                INSTNM        CITY   \n",
       "39                               Georgetown University  Washington  \\\n",
       "38                        George Washington University  Washington   \n",
       "34                                 American University  Washington   \n",
       "35                      Catholic University of America  Washington   \n",
       "40                                   Howard University  Washington   \n",
       "37                                Gallaudet University  Washington   \n",
       "36              University of the District of Columbia  Washington   \n",
       "41             Strayer University-District of Columbia  Washington   \n",
       "42                       Trinity Washington University  Washington   \n",
       "43                   Beaufort County Community College  Washington   \n",
       "44           Penn Commercial Business/Technical School  Washington   \n",
       "45                      Washington & Jefferson College  Washington   \n",
       "46                     Warren County Community College  Washington   \n",
       "47      University of the Potomac-Washington DC Campus  Washington   \n",
       "48                    Strayer University-Global Region  Washington   \n",
       "82                               University of Chicago     Chicago   \n",
       "108                   Illinois Institute of Technology     Chicago   \n",
       "112                          Loyola University Chicago     Chicago   \n",
       "100                                  DePaul University     Chicago   \n",
       "106                  University of Illinois at Chicago     Chicago   \n",
       "80                            Chicago State University     Chicago   \n",
       "122                               Roosevelt University     Chicago   \n",
       "124                            Saint Xavier University     Chicago   \n",
       "78                             American Academy of Art     Chicago   \n",
       "84       City Colleges of Chicago-Kennedy-King College     Chicago   \n",
       "86          City Colleges of Chicago-Malcolm X College     Chicago   \n",
       "88       City Colleges of Chicago-Olive-Harvey College     Chicago   \n",
       "90     City Colleges of Chicago-Harry S Truman College     Chicago   \n",
       "92    City Colleges of Chicago-Richard J Daley College     Chicago   \n",
       "94   City Colleges of Chicago-Harold Washington Col...     Chicago   \n",
       "\n",
       "     Maria_Uni_Score  SATMT25  Entr_Norm  Temp_Norm  Crime_Norm  \n",
       "39          4.708169    660.0   1.300000   0.721053    0.833729  \n",
       "38          4.708169    600.0   1.300000   0.721053    0.833729  \n",
       "34          4.708169    570.0   1.300000   0.721053    0.833729  \n",
       "35          4.708169    510.0   1.300000   0.721053    0.833729  \n",
       "40          4.708169    480.0   1.300000   0.721053    0.833729  \n",
       "37          4.708169    345.0   1.300000   0.721053    0.833729  \n",
       "36          4.708169      NaN   1.300000   0.721053    0.833729  \n",
       "41          4.708169      NaN   1.300000   0.721053    0.833729  \n",
       "42          4.708169      NaN   1.300000   0.721053    0.833729  \n",
       "43          4.708169      NaN   1.300000   0.721053    0.833729  \n",
       "44          4.708169      NaN   1.300000   0.721053    0.833729  \n",
       "45          4.708169      NaN   1.300000   0.721053    0.833729  \n",
       "46          4.708169      NaN   1.300000   0.721053    0.833729  \n",
       "47          4.708169      NaN   1.300000   0.721053    0.833729  \n",
       "48          4.708169      NaN   1.300000   0.721053    0.833729  \n",
       "82          3.076749    720.0   1.019848   0.300000    1.054853  \n",
       "108         3.076749    640.0   1.019848   0.300000    1.054853  \n",
       "112         3.076749    530.0   1.019848   0.300000    1.054853  \n",
       "100         3.076749    520.0   1.019848   0.300000    1.054853  \n",
       "106         3.076749    510.0   1.019848   0.300000    1.054853  \n",
       "80          3.076749    450.0   1.019848   0.300000    1.054853  \n",
       "122         3.076749    440.0   1.019848   0.300000    1.054853  \n",
       "124         3.076749    440.0   1.019848   0.300000    1.054853  \n",
       "78          3.076749      NaN   1.019848   0.300000    1.054853  \n",
       "84          3.076749      NaN   1.019848   0.300000    1.054853  \n",
       "86          3.076749      NaN   1.019848   0.300000    1.054853  \n",
       "88          3.076749      NaN   1.019848   0.300000    1.054853  \n",
       "90          3.076749      NaN   1.019848   0.300000    1.054853  \n",
       "92          3.076749      NaN   1.019848   0.300000    1.054853  \n",
       "94          3.076749      NaN   1.019848   0.300000    1.054853  "
      ]
     },
     "execution_count": 41,
     "metadata": {},
     "output_type": "execute_result"
    }
   ],
   "source": [
    "# Displaying the top 30 results.\n",
    "Merged_All[[\n",
    "    'INSTNM', 'CITY', 'Maria_Uni_Score', 'SATMT25', \n",
    "    'Entr_Norm', 'Temp_Norm', 'Crime_Norm'\n",
    "    ]].head(30)"
   ]
  }
 ],
 "metadata": {
  "kernelspec": {
   "display_name": "Python 3",
   "language": "python",
   "name": "python3"
  },
  "language_info": {
   "codemirror_mode": {
    "name": "ipython",
    "version": 3
   },
   "file_extension": ".py",
   "mimetype": "text/x-python",
   "name": "python",
   "nbconvert_exporter": "python",
   "pygments_lexer": "ipython3",
   "version": "3.10.5"
  },
  "orig_nbformat": 4
 },
 "nbformat": 4,
 "nbformat_minor": 2
}
